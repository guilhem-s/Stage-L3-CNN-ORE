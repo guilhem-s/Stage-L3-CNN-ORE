{
 "cells": [
  {
   "cell_type": "code",
   "execution_count": 4,
   "id": "7076dc0a-b6af-4ba9-a3eb-b7d0a601cacd",
   "metadata": {},
   "outputs": [
    {
     "name": "stdout",
     "output_type": "stream",
     "text": [
      "nb_cc:  100 reduction : 0 ethnie :  0\n",
      "nb correct:  56 accuracy:  1.0\n",
      "nb_cc:  100 reduction : 0 ethnie :  0\n",
      "nb correct:  56 accuracy:  1.0\n",
      "nb_cc:  100 reduction : 0 ethnie :  0\n",
      "nb correct:  56 accuracy:  1.0\n",
      "nb_cc:  100 reduction : 0 ethnie :  0\n",
      "nb correct:  56 accuracy:  1.0\n",
      "nb_cc:  100 reduction : 0 ethnie :  0\n",
      "nb correct:  56 accuracy:  1.0\n",
      "nb_cc:  100 reduction : 0 ethnie :  0\n",
      "nb correct:  56 accuracy:  1.0\n",
      "nb_cc:  100 reduction : 0 ethnie :  0\n",
      "nb correct:  56 accuracy:  1.0\n",
      "nb_cc:  100 reduction : 0 ethnie :  0\n",
      "nb correct:  56 accuracy:  1.0\n",
      "nb_cc:  100 reduction : 0 ethnie :  0\n",
      "nb correct:  56 accuracy:  1.0\n",
      "nb_cc:  100 reduction : 0 ethnie :  0\n",
      "nb correct:  56 accuracy:  1.0\n",
      "nb_cc:  100 reduction : 50 ethnie :  0\n",
      "nb correct:  112 accuracy:  1.0\n",
      "nb_cc:  100 reduction : 50 ethnie :  0\n",
      "nb correct:  112 accuracy:  1.0\n",
      "nb_cc:  100 reduction : 50 ethnie :  0\n",
      "nb correct:  112 accuracy:  1.0\n",
      "nb_cc:  100 reduction : 50 ethnie :  0\n",
      "nb correct:  112 accuracy:  1.0\n",
      "nb_cc:  100 reduction : 50 ethnie :  0\n",
      "nb correct:  112 accuracy:  1.0\n",
      "nb_cc:  100 reduction : 50 ethnie :  0\n",
      "nb correct:  112 accuracy:  1.0\n",
      "nb_cc:  100 reduction : 50 ethnie :  0\n",
      "nb correct:  112 accuracy:  1.0\n",
      "nb_cc:  100 reduction : 50 ethnie :  0\n",
      "nb correct:  112 accuracy:  1.0\n",
      "nb_cc:  100 reduction : 50 ethnie :  0\n",
      "nb correct:  112 accuracy:  1.0\n",
      "nb_cc:  100 reduction : 50 ethnie :  0\n",
      "nb correct:  112 accuracy:  1.0\n"
     ]
    }
   ],
   "source": [
    "import runpy\n",
    "\n",
    "nb_cc = [100,] # 6, 8, 14, 20, 26, 32, 44, 50]\n",
    "proportion_test = [0, 50]\n",
    "ethnie = [0]\n",
    "\n",
    "for b in ethnie:\n",
    "    for a in nb_cc:\n",
    "        for c_idx in range(len(proportion_test)):\n",
    "            c = proportion_test[c_idx]\n",
    "            for y in range(10):\n",
    "                d = y + 1\n",
    "                arguments = '-a '+str(a)+' -b '+str(b)+' -c '+str(c)+' -d '+str(d)\n",
    "                runfile(r\"C:/Users/Guilem/Documents/GitHub/Stage-L3-CNN-ORE/2eme_Semestre/ID_CNN_ORE-Revu.py\", args=arguments, wdir=r\"C:/Users/Guilem/Documents/GitHub/Stage-L3-CNN-ORE/2eme_Semestre\")\n",
    "                # envoyer à Guilhem le code pour qu'il "
   ]
  },
  {
   "cell_type": "code",
   "execution_count": null,
   "id": "748b49b1-c847-4b00-8f79-540fa89b0949",
   "metadata": {},
   "outputs": [],
   "source": []
  }
 ],
 "metadata": {
  "kernelspec": {
   "display_name": "Python 3 (ipykernel)",
   "language": "python",
   "name": "python3"
  },
  "language_info": {
   "codemirror_mode": {
    "name": "ipython",
    "version": 3
   },
   "file_extension": ".py",
   "mimetype": "text/x-python",
   "name": "python",
   "nbconvert_exporter": "python",
   "pygments_lexer": "ipython3",
   "version": "3.10.13"
  }
 },
 "nbformat": 4,
 "nbformat_minor": 5
}
